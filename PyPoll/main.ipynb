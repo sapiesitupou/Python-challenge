{
 "cells": [
  {
   "cell_type": "code",
   "execution_count": 1,
   "metadata": {},
   "outputs": [],
   "source": [
    "import pandas as pd"
   ]
  },
  {
   "cell_type": "code",
   "execution_count": 5,
   "metadata": {},
   "outputs": [
    {
     "data": {
      "text/plain": [
       "Index(['Voter ID', 'County', 'Candidate'], dtype='object')"
      ]
     },
     "execution_count": 5,
     "metadata": {},
     "output_type": "execute_result"
    }
   ],
   "source": [
    "data_file = pd.read_csv(\"../Resources/election_data.csv\")\n",
    "data_file.columns"
   ]
  },
  {
   "cell_type": "code",
   "execution_count": 6,
   "metadata": {},
   "outputs": [
    {
     "data": {
      "text/plain": [
       "3521001"
      ]
     },
     "execution_count": 6,
     "metadata": {},
     "output_type": "execute_result"
    }
   ],
   "source": [
    "votes_total = len(data_file)\n",
    "votes_total"
   ]
  },
  {
   "cell_type": "code",
   "execution_count": 7,
   "metadata": {},
   "outputs": [
    {
     "data": {
      "text/plain": [
       "Khan        2218231\n",
       "Correy       704200\n",
       "Li           492940\n",
       "O'Tooley     105630\n",
       "Name: Candidate, dtype: int64"
      ]
     },
     "execution_count": 7,
     "metadata": {},
     "output_type": "execute_result"
    }
   ],
   "source": [
    "candidates_count = data_file[\"Candidate\"].value_counts()\n",
    "candidates_count"
   ]
  },
  {
   "cell_type": "code",
   "execution_count": 8,
   "metadata": {},
   "outputs": [
    {
     "data": {
      "text/plain": [
       "Khan        63.000011\n",
       "Correy      19.999994\n",
       "Li          13.999996\n",
       "O'Tooley     2.999999\n",
       "Name: Candidate, dtype: float64"
      ]
     },
     "execution_count": 8,
     "metadata": {},
     "output_type": "execute_result"
    }
   ],
   "source": [
    "voting_percentage = (candidates_count/votes_total)*100\n",
    "voting_percentage"
   ]
  },
  {
   "cell_type": "code",
   "execution_count": 9,
   "metadata": {},
   "outputs": [
    {
     "data": {
      "text/plain": [
       "'Khan'"
      ]
     },
     "execution_count": 9,
     "metadata": {},
     "output_type": "execute_result"
    }
   ],
   "source": [
    "Winner = candidates_count.idxmax()\n",
    "Winner"
   ]
  },
  {
   "cell_type": "code",
   "execution_count": 11,
   "metadata": {},
   "outputs": [
    {
     "name": "stdout",
     "output_type": "stream",
     "text": [
      "Election Results\n",
      "---------------------------------------------\n",
      "Total Votes: 3521001\n",
      "-----------------------------------------------\n",
      "Khan: 63.0%(2218231)\n",
      "Correy: 20.0%(704200)\n",
      "Li: 14.0%(492940)\n",
      "O'Tooley: 3.0%(105630)\n",
      "------------------------------------------------\n",
      "Winner: Khan\n"
     ]
    }
   ],
   "source": [
    "print(\"Election Results\")\n",
    "\n",
    "print(\"---------------------------------------------\")\n",
    "\n",
    "\n",
    "print(\"Total Votes: \" + str(votes_total))\n",
    "\n",
    "print(\"-----------------------------------------------\")\n",
    "\n",
    "\n",
    "print(\"Khan:\" + \" \" + str(round(voting_percentage[0],3)) + \"%\" + \"(\"+str(candidates_count[0])+\")\")\n",
    "      \n",
    "print(\"Correy:\" + \" \" + str(round(voting_percentage[1],3)) + \"%\" + \"(\"+str(candidates_count[1])+\")\")\n",
    "      \n",
    "print(\"Li:\" + \" \" + str(round(voting_percentage[2],3)) + \"%\" + \"(\"+str(candidates_count[2])+\")\")\n",
    "      \n",
    "print(\"O'Tooley:\" + \" \" + str(round(voting_percentage[3],3)) + \"%\" + \"(\"+str(candidates_count[3])+\")\")\n",
    "\n",
    "print(\"------------------------------------------------\")\n",
    "\n",
    "      \n",
    "print(\"Winner: \" + Winner)"
   ]
  },
  {
   "cell_type": "code",
   "execution_count": 12,
   "metadata": {},
   "outputs": [],
   "source": [
    "file = open('PyPoll_Summary.txt','w')\n",
    "file.write(\"Election Results\")\n",
    "file.write(\"\\n..................................................\")\n",
    "file.write(\"\\nTotal Votes: \" + str(votes_total))\n",
    "file.write(\"\\n--------------------------------------------------\")\n",
    "file.write(\"\\nKhan:\" + \" \" + str(round(voting_percentage[0],3)) + \"%\" + \"(\"+str(candidates_count[0])+\")\")\n",
    "file.write(\"\\nCorrey:\" + \" \" + str(round(voting_percentage[1],3)) + \"%\" + \"(\"+str(candidates_count[1])+\")\")\n",
    "file.write(\"\\nLi:\" + \" \" + str(round(voting_percentage[2],3)) + \"%\" + \"(\"+str(candidates_count[2])+\")\")\n",
    "file.write(\"\\nO'Tooley:\" + \" \" + str(round(voting_percentage[3],3)) + \"%\" + \"(\"+str(candidates_count[3])+\")\")\n",
    "file.write(\"\\n--------------------------------------------------\")\n",
    "file.write(\"\\nWinner: \" + Winner)\n",
    "file.close()"
   ]
  },
  {
   "cell_type": "code",
   "execution_count": null,
   "metadata": {},
   "outputs": [],
   "source": []
  }
 ],
 "metadata": {
  "kernelspec": {
   "display_name": "Python 3",
   "language": "python",
   "name": "python3"
  },
  "language_info": {
   "codemirror_mode": {
    "name": "ipython",
    "version": 3
   },
   "file_extension": ".py",
   "mimetype": "text/x-python",
   "name": "python",
   "nbconvert_exporter": "python",
   "pygments_lexer": "ipython3",
   "version": "3.8.3"
  }
 },
 "nbformat": 4,
 "nbformat_minor": 4
}
